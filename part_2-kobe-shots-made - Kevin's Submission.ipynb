{
 "cells": [
  {
   "cell_type": "markdown",
   "metadata": {},
   "source": [
    "<img src=\"http://imgur.com/1ZcRyrc.png\" style=\"float: left; margin: 20px; height: 55px\">\n",
    "\n",
    "\n",
    "# Predicting Shots Made Per Game by Kobe Bryant\n",
    "\n",
    "_Authors: Kiefer Katovich (SF)_\n",
    "\n",
    "---\n",
    "\n",
    "In this lab you'll be using regularized regression penalties — ridge, lasso, and elastic net — to try and predict how many shots Kobe Bryant made per game during his career.\n",
    "\n",
    "The Kobe Shots data set contains hundreds of columns representing different characteristics of each basketball game. Fitting an ordinary linear regression using every predictor would dramatically overfit the model, considering the limited number of observations (games) we have available. Plus, many of the predictors have significant multicollinearity. \n",
    "\n",
    "\n",
    "**Warning:** Some of these calculations are computationally expensive and may take a while to execute. It may be worthwhile to only use a portion of the data to perform these calculations, especially if you've experienced kernel issues in the past.\n",
    "\n",
    "---\n",
    "\n",
    "### 1) Load packages and data."
   ]
  },
  {
   "cell_type": "code",
   "execution_count": 29,
   "metadata": {},
   "outputs": [],
   "source": [
    "import numpy as np\n",
    "import pandas as pd\n",
    "import patsy\n",
    "\n",
    "from sklearn.linear_model import Ridge, Lasso, ElasticNet, LinearRegression, RidgeCV, LassoCV, ElasticNetCV\n",
    "from sklearn.model_selection import cross_val_score, train_test_split\n",
    "from sklearn.preprocessing import StandardScaler\n",
    "\n",
    "import matplotlib\n",
    "import matplotlib.pyplot as plt\n",
    "import seaborn as sns\n",
    "plt.style.use('fivethirtyeight')\n",
    "\n",
    "%config InlineBackend.figure_format = 'retina'\n",
    "%matplotlib inline"
   ]
  },
  {
   "cell_type": "code",
   "execution_count": 20,
   "metadata": {},
   "outputs": [],
   "source": [
    "kobe = pd.read_csv('./datasets/kobe_superwide_games.csv')"
   ]
  },
  {
   "cell_type": "markdown",
   "metadata": {},
   "source": [
    "---\n",
    "\n",
    "### 2) Examine the data.\n",
    "\n",
    "- How many columns are there?  645\n",
    "- Examine what the observations (rows) and columns represent.\n",
    "- Why might regularization be particularly useful for modeling this data?"
   ]
  },
  {
   "cell_type": "markdown",
   "metadata": {},
   "source": [
    "2.1: 645\n",
    "\n",
    "2.2: Each row represents a game played by Kobe Bryant.  The columns show the season in which a game took place against a certain team.  There are also columns specifying what kind of shot exactly was made.\n",
    "\n",
    "2.3:  Regularization could be particularly helpful for modeling this data because there are so many features that can be input and we would appreciate some help reducing the features that contain a lot of 'noise'."
   ]
  },
  {
   "cell_type": "code",
   "execution_count": 21,
   "metadata": {},
   "outputs": [
    {
     "data": {
      "text/plain": [
       "(1558, 645)"
      ]
     },
     "execution_count": 21,
     "metadata": {},
     "output_type": "execute_result"
    }
   ],
   "source": [
    "kobe.shape"
   ]
  },
  {
   "cell_type": "code",
   "execution_count": 22,
   "metadata": {},
   "outputs": [
    {
     "data": {
      "text/html": [
       "<div>\n",
       "<style scoped>\n",
       "    .dataframe tbody tr th:only-of-type {\n",
       "        vertical-align: middle;\n",
       "    }\n",
       "\n",
       "    .dataframe tbody tr th {\n",
       "        vertical-align: top;\n",
       "    }\n",
       "\n",
       "    .dataframe thead th {\n",
       "        text-align: right;\n",
       "    }\n",
       "</style>\n",
       "<table border=\"1\" class=\"dataframe\">\n",
       "  <thead>\n",
       "    <tr style=\"text-align: right;\">\n",
       "      <th></th>\n",
       "      <th>SHOTS_MADE</th>\n",
       "      <th>AWAY_GAME</th>\n",
       "      <th>SEASON_OPPONENT:atl:1996-97</th>\n",
       "      <th>SEASON_OPPONENT:atl:1997-98</th>\n",
       "      <th>SEASON_OPPONENT:atl:1999-00</th>\n",
       "      <th>SEASON_OPPONENT:atl:2000-01</th>\n",
       "      <th>SEASON_OPPONENT:atl:2001-02</th>\n",
       "      <th>SEASON_OPPONENT:atl:2002-03</th>\n",
       "      <th>SEASON_OPPONENT:atl:2003-04</th>\n",
       "      <th>SEASON_OPPONENT:atl:2004-05</th>\n",
       "      <th>...</th>\n",
       "      <th>ACTION_TYPE:tip_layup_shot</th>\n",
       "      <th>ACTION_TYPE:tip_shot</th>\n",
       "      <th>ACTION_TYPE:turnaround_bank_shot</th>\n",
       "      <th>ACTION_TYPE:turnaround_fadeaway_bank_jump_shot</th>\n",
       "      <th>ACTION_TYPE:turnaround_fadeaway_shot</th>\n",
       "      <th>ACTION_TYPE:turnaround_finger_roll_shot</th>\n",
       "      <th>ACTION_TYPE:turnaround_hook_shot</th>\n",
       "      <th>ACTION_TYPE:turnaround_jump_shot</th>\n",
       "      <th>SEASON_GAME_NUMBER</th>\n",
       "      <th>CAREER_GAME_NUMBER</th>\n",
       "    </tr>\n",
       "  </thead>\n",
       "  <tbody>\n",
       "    <tr>\n",
       "      <th>0</th>\n",
       "      <td>0.0</td>\n",
       "      <td>0</td>\n",
       "      <td>0.0</td>\n",
       "      <td>0.0</td>\n",
       "      <td>0.0</td>\n",
       "      <td>0.0</td>\n",
       "      <td>0.0</td>\n",
       "      <td>0.0</td>\n",
       "      <td>0.0</td>\n",
       "      <td>0.0</td>\n",
       "      <td>...</td>\n",
       "      <td>0.0</td>\n",
       "      <td>0.0</td>\n",
       "      <td>0.0</td>\n",
       "      <td>0.0</td>\n",
       "      <td>0.0</td>\n",
       "      <td>0.0</td>\n",
       "      <td>0.0</td>\n",
       "      <td>0.0</td>\n",
       "      <td>1</td>\n",
       "      <td>1</td>\n",
       "    </tr>\n",
       "    <tr>\n",
       "      <th>1</th>\n",
       "      <td>0.0</td>\n",
       "      <td>1</td>\n",
       "      <td>0.0</td>\n",
       "      <td>0.0</td>\n",
       "      <td>0.0</td>\n",
       "      <td>0.0</td>\n",
       "      <td>0.0</td>\n",
       "      <td>0.0</td>\n",
       "      <td>0.0</td>\n",
       "      <td>0.0</td>\n",
       "      <td>...</td>\n",
       "      <td>0.0</td>\n",
       "      <td>0.0</td>\n",
       "      <td>0.0</td>\n",
       "      <td>0.0</td>\n",
       "      <td>0.0</td>\n",
       "      <td>0.0</td>\n",
       "      <td>0.0</td>\n",
       "      <td>0.0</td>\n",
       "      <td>2</td>\n",
       "      <td>2</td>\n",
       "    </tr>\n",
       "    <tr>\n",
       "      <th>2</th>\n",
       "      <td>2.0</td>\n",
       "      <td>1</td>\n",
       "      <td>0.0</td>\n",
       "      <td>0.0</td>\n",
       "      <td>0.0</td>\n",
       "      <td>0.0</td>\n",
       "      <td>0.0</td>\n",
       "      <td>0.0</td>\n",
       "      <td>0.0</td>\n",
       "      <td>0.0</td>\n",
       "      <td>...</td>\n",
       "      <td>0.0</td>\n",
       "      <td>0.0</td>\n",
       "      <td>0.0</td>\n",
       "      <td>0.0</td>\n",
       "      <td>0.0</td>\n",
       "      <td>0.0</td>\n",
       "      <td>0.0</td>\n",
       "      <td>0.0</td>\n",
       "      <td>3</td>\n",
       "      <td>3</td>\n",
       "    </tr>\n",
       "    <tr>\n",
       "      <th>3</th>\n",
       "      <td>2.0</td>\n",
       "      <td>1</td>\n",
       "      <td>0.0</td>\n",
       "      <td>0.0</td>\n",
       "      <td>0.0</td>\n",
       "      <td>0.0</td>\n",
       "      <td>0.0</td>\n",
       "      <td>0.0</td>\n",
       "      <td>0.0</td>\n",
       "      <td>0.0</td>\n",
       "      <td>...</td>\n",
       "      <td>0.0</td>\n",
       "      <td>0.0</td>\n",
       "      <td>0.0</td>\n",
       "      <td>0.0</td>\n",
       "      <td>0.0</td>\n",
       "      <td>0.0</td>\n",
       "      <td>0.0</td>\n",
       "      <td>0.0</td>\n",
       "      <td>4</td>\n",
       "      <td>4</td>\n",
       "    </tr>\n",
       "    <tr>\n",
       "      <th>4</th>\n",
       "      <td>0.0</td>\n",
       "      <td>0</td>\n",
       "      <td>1.0</td>\n",
       "      <td>0.0</td>\n",
       "      <td>0.0</td>\n",
       "      <td>0.0</td>\n",
       "      <td>0.0</td>\n",
       "      <td>0.0</td>\n",
       "      <td>0.0</td>\n",
       "      <td>0.0</td>\n",
       "      <td>...</td>\n",
       "      <td>0.0</td>\n",
       "      <td>0.0</td>\n",
       "      <td>0.0</td>\n",
       "      <td>0.0</td>\n",
       "      <td>0.0</td>\n",
       "      <td>0.0</td>\n",
       "      <td>0.0</td>\n",
       "      <td>0.0</td>\n",
       "      <td>5</td>\n",
       "      <td>5</td>\n",
       "    </tr>\n",
       "  </tbody>\n",
       "</table>\n",
       "<p>5 rows × 645 columns</p>\n",
       "</div>"
      ],
      "text/plain": [
       "   SHOTS_MADE  AWAY_GAME  SEASON_OPPONENT:atl:1996-97  \\\n",
       "0         0.0          0                          0.0   \n",
       "1         0.0          1                          0.0   \n",
       "2         2.0          1                          0.0   \n",
       "3         2.0          1                          0.0   \n",
       "4         0.0          0                          1.0   \n",
       "\n",
       "   SEASON_OPPONENT:atl:1997-98  SEASON_OPPONENT:atl:1999-00  \\\n",
       "0                          0.0                          0.0   \n",
       "1                          0.0                          0.0   \n",
       "2                          0.0                          0.0   \n",
       "3                          0.0                          0.0   \n",
       "4                          0.0                          0.0   \n",
       "\n",
       "   SEASON_OPPONENT:atl:2000-01  SEASON_OPPONENT:atl:2001-02  \\\n",
       "0                          0.0                          0.0   \n",
       "1                          0.0                          0.0   \n",
       "2                          0.0                          0.0   \n",
       "3                          0.0                          0.0   \n",
       "4                          0.0                          0.0   \n",
       "\n",
       "   SEASON_OPPONENT:atl:2002-03  SEASON_OPPONENT:atl:2003-04  \\\n",
       "0                          0.0                          0.0   \n",
       "1                          0.0                          0.0   \n",
       "2                          0.0                          0.0   \n",
       "3                          0.0                          0.0   \n",
       "4                          0.0                          0.0   \n",
       "\n",
       "   SEASON_OPPONENT:atl:2004-05         ...          \\\n",
       "0                          0.0         ...           \n",
       "1                          0.0         ...           \n",
       "2                          0.0         ...           \n",
       "3                          0.0         ...           \n",
       "4                          0.0         ...           \n",
       "\n",
       "   ACTION_TYPE:tip_layup_shot  ACTION_TYPE:tip_shot  \\\n",
       "0                         0.0                   0.0   \n",
       "1                         0.0                   0.0   \n",
       "2                         0.0                   0.0   \n",
       "3                         0.0                   0.0   \n",
       "4                         0.0                   0.0   \n",
       "\n",
       "   ACTION_TYPE:turnaround_bank_shot  \\\n",
       "0                               0.0   \n",
       "1                               0.0   \n",
       "2                               0.0   \n",
       "3                               0.0   \n",
       "4                               0.0   \n",
       "\n",
       "   ACTION_TYPE:turnaround_fadeaway_bank_jump_shot  \\\n",
       "0                                             0.0   \n",
       "1                                             0.0   \n",
       "2                                             0.0   \n",
       "3                                             0.0   \n",
       "4                                             0.0   \n",
       "\n",
       "   ACTION_TYPE:turnaround_fadeaway_shot  \\\n",
       "0                                   0.0   \n",
       "1                                   0.0   \n",
       "2                                   0.0   \n",
       "3                                   0.0   \n",
       "4                                   0.0   \n",
       "\n",
       "   ACTION_TYPE:turnaround_finger_roll_shot  ACTION_TYPE:turnaround_hook_shot  \\\n",
       "0                                      0.0                               0.0   \n",
       "1                                      0.0                               0.0   \n",
       "2                                      0.0                               0.0   \n",
       "3                                      0.0                               0.0   \n",
       "4                                      0.0                               0.0   \n",
       "\n",
       "   ACTION_TYPE:turnaround_jump_shot  SEASON_GAME_NUMBER  CAREER_GAME_NUMBER  \n",
       "0                               0.0                   1                   1  \n",
       "1                               0.0                   2                   2  \n",
       "2                               0.0                   3                   3  \n",
       "3                               0.0                   4                   4  \n",
       "4                               0.0                   5                   5  \n",
       "\n",
       "[5 rows x 645 columns]"
      ]
     },
     "execution_count": 22,
     "metadata": {},
     "output_type": "execute_result"
    }
   ],
   "source": [
    "kobe.head()"
   ]
  },
  {
   "cell_type": "code",
   "execution_count": 23,
   "metadata": {},
   "outputs": [
    {
     "name": "stdout",
     "output_type": "stream",
     "text": [
      "<class 'pandas.core.frame.DataFrame'>\n",
      "RangeIndex: 1558 entries, 0 to 1557\n",
      "Columns: 645 entries, SHOTS_MADE to CAREER_GAME_NUMBER\n",
      "dtypes: float64(640), int64(5)\n",
      "memory usage: 7.7 MB\n"
     ]
    }
   ],
   "source": [
    "kobe.info()"
   ]
  },
  {
   "cell_type": "markdown",
   "metadata": {},
   "source": [
    "---\n",
    "\n",
    "### 3) Create predictor and target variables. Standardize the predictors.\n",
    "\n",
    "Why is normalization necessary for regularized regressions?\n",
    "\n",
    "Use the `sklearn.preprocessing` class `StandardScaler` to standardize the predictors."
   ]
  },
  {
   "cell_type": "markdown",
   "metadata": {
    "collapsed": true
   },
   "source": [
    "# A:\n",
    "\n",
    "Normalizing the data is necessary for regularized regressions because our different inputs may/are often measured on different scales, which will wrongly influence the Beta Coefficients of our features.  In other words, we normalize to ensure that all inputs are measured on a similar scale so that their coefficients are weighed on a similar scale as well. "
   ]
  },
  {
   "cell_type": "code",
   "execution_count": 26,
   "metadata": {},
   "outputs": [],
   "source": [
    "numerical_cols = kobe._get_numeric_data()"
   ]
  },
  {
   "cell_type": "code",
   "execution_count": 27,
   "metadata": {},
   "outputs": [],
   "source": [
    "features = [col for col in numerical_cols if col != 'SHOTS_MADE']"
   ]
  },
  {
   "cell_type": "code",
   "execution_count": 28,
   "metadata": {},
   "outputs": [],
   "source": [
    "X = kobe[features]\n",
    "y = kobe['SHOTS_MADE']"
   ]
  },
  {
   "cell_type": "code",
   "execution_count": 30,
   "metadata": {},
   "outputs": [],
   "source": [
    "X_train, X_test, y_train, y_test = train_test_split(X, y, random_state=42)"
   ]
  },
  {
   "cell_type": "code",
   "execution_count": 31,
   "metadata": {},
   "outputs": [],
   "source": [
    "ss = StandardScaler()"
   ]
  },
  {
   "cell_type": "code",
   "execution_count": 32,
   "metadata": {},
   "outputs": [
    {
     "data": {
      "text/plain": [
       "StandardScaler(copy=True, with_mean=True, with_std=True)"
      ]
     },
     "execution_count": 32,
     "metadata": {},
     "output_type": "execute_result"
    }
   ],
   "source": [
    "ss.fit(X_train)"
   ]
  },
  {
   "cell_type": "code",
   "execution_count": 33,
   "metadata": {},
   "outputs": [],
   "source": [
    "X_train_sc = ss.transform(X_train)\n",
    "X_test_sc = ss.transform(X_test)"
   ]
  },
  {
   "cell_type": "markdown",
   "metadata": {},
   "source": [
    "---\n",
    "\n",
    "### 4. Build a linear regression predicting `SHOTS_MADE` from the rest of the columns.\n",
    "\n",
    "Cross-validate the $R^2$ of an ordinary linear regression model with 10 cross-validation folds.\n",
    "\n",
    "How does it perform?"
   ]
  },
  {
   "cell_type": "markdown",
   "metadata": {
    "collapsed": true
   },
   "source": [
    "# A:  \n",
    "\n",
    "#### The linear regression model performs very poorly, as can be seen by the mean cross val score in the negatives."
   ]
  },
  {
   "cell_type": "code",
   "execution_count": 34,
   "metadata": {},
   "outputs": [],
   "source": [
    "lr = LinearRegression()"
   ]
  },
  {
   "cell_type": "code",
   "execution_count": 35,
   "metadata": {},
   "outputs": [
    {
     "data": {
      "text/plain": [
       "-1.9299028749702666e+28"
      ]
     },
     "execution_count": 35,
     "metadata": {},
     "output_type": "execute_result"
    }
   ],
   "source": [
    "cross_val_score(lr, X_train_sc, y_train, cv=10).mean()"
   ]
  },
  {
   "cell_type": "markdown",
   "metadata": {},
   "source": [
    "---\n",
    "\n",
    "### 5) Find an optimal value for the ridge regression alpha using `RidgeCV`.\n",
    "\n",
    "Go to the documentation and [read how RidgeCV works](http://scikit-learn.org/stable/modules/generated/sklearn.linear_model.RidgeCV.html).\n",
    "\n",
    "> *Hint: Once the RidgeCV is fit, the attribute `.alpha_` contains the best alpha parameter it found through cross-validation.*\n",
    "\n",
    "Recall that ridge performs best when searching alphas through logarithmic space (`np.logspace`). This may take awhile to fit.\n"
   ]
  },
  {
   "cell_type": "code",
   "execution_count": 36,
   "metadata": {},
   "outputs": [],
   "source": [
    "ridge = RidgeCV()"
   ]
  },
  {
   "cell_type": "code",
   "execution_count": 46,
   "metadata": {},
   "outputs": [
    {
     "data": {
      "text/plain": [
       "RidgeCV(alphas=(0.1, 1.0, 10.0), cv=None, fit_intercept=True, gcv_mode=None,\n",
       "    normalize=False, scoring=None, store_cv_values=False)"
      ]
     },
     "execution_count": 46,
     "metadata": {},
     "output_type": "execute_result"
    }
   ],
   "source": [
    "ridge.fit(X_train_sc, y_train)"
   ]
  },
  {
   "cell_type": "code",
   "execution_count": 47,
   "metadata": {},
   "outputs": [
    {
     "data": {
      "text/plain": [
       "10.0"
      ]
     },
     "execution_count": 47,
     "metadata": {},
     "output_type": "execute_result"
    }
   ],
   "source": [
    "ridge.alpha_"
   ]
  },
  {
   "cell_type": "markdown",
   "metadata": {},
   "source": [
    "---\n",
    "\n",
    "### 6) Cross-validate the ridge regression $R^2$ with the optimal alpha.\n",
    "\n",
    "Is it better than the linear regression? If so, why might this be?"
   ]
  },
  {
   "cell_type": "markdown",
   "metadata": {
    "collapsed": true
   },
   "source": [
    "# A:\n",
    "\n",
    "####  Yes, it is better than the linear regression.  This may be because the ridge regression has limited the effects of 'non-important' features, or noise, when it created its model."
   ]
  },
  {
   "cell_type": "code",
   "execution_count": 48,
   "metadata": {},
   "outputs": [
    {
     "data": {
      "text/plain": [
       "0.40269539415566796"
      ]
     },
     "execution_count": 48,
     "metadata": {},
     "output_type": "execute_result"
    }
   ],
   "source": [
    "cross_val_score(ridge, X_train_sc, y_train, cv=10).mean()"
   ]
  },
  {
   "cell_type": "markdown",
   "metadata": {},
   "source": [
    "---\n",
    "\n",
    "### 7) Find an optimal value for lasso regression alpha using `LassoCV`.\n",
    "\n",
    "Go to the documentation and [read how LassoCV works](http://scikit-learn.org/stable/modules/generated/sklearn.linear_model.LassoCV.html). It is very similar to `RidgeCV`.\n",
    "\n",
    "> *Hint: Again, once the `LassoCV` is fit, the attribute `.alpha_` contains the best alpha parameter it found through cross-validation.*\n",
    "\n",
    "Recall that lasso, unlike ridge, performs best when searching for alpha through linear space (`np.linspace`). However, you can actually let the LassoCV decide what alphas to use itself by setting the keyword argument `n_alphas=` to however many alphas you want it to search over. We recommend letting scikit-learn choose the range of alphas.\n",
    "\n",
    "_**Tip:** If you find your CV taking a long time and you're not sure if it's working, set `verbose =1`._"
   ]
  },
  {
   "cell_type": "code",
   "execution_count": 49,
   "metadata": {},
   "outputs": [],
   "source": [
    "lasso = LassoCV()"
   ]
  },
  {
   "cell_type": "code",
   "execution_count": 50,
   "metadata": {},
   "outputs": [
    {
     "name": "stderr",
     "output_type": "stream",
     "text": [
      "/anaconda3/lib/python3.6/site-packages/sklearn/linear_model/coordinate_descent.py:491: ConvergenceWarning: Objective did not converge. You might want to increase the number of iterations. Fitting data with very small alpha may cause precision problems.\n",
      "  ConvergenceWarning)\n",
      "/anaconda3/lib/python3.6/site-packages/sklearn/linear_model/coordinate_descent.py:491: ConvergenceWarning: Objective did not converge. You might want to increase the number of iterations. Fitting data with very small alpha may cause precision problems.\n",
      "  ConvergenceWarning)\n",
      "/anaconda3/lib/python3.6/site-packages/sklearn/linear_model/coordinate_descent.py:491: ConvergenceWarning: Objective did not converge. You might want to increase the number of iterations. Fitting data with very small alpha may cause precision problems.\n",
      "  ConvergenceWarning)\n",
      "/anaconda3/lib/python3.6/site-packages/sklearn/linear_model/coordinate_descent.py:491: ConvergenceWarning: Objective did not converge. You might want to increase the number of iterations. Fitting data with very small alpha may cause precision problems.\n",
      "  ConvergenceWarning)\n",
      "/anaconda3/lib/python3.6/site-packages/sklearn/linear_model/coordinate_descent.py:491: ConvergenceWarning: Objective did not converge. You might want to increase the number of iterations. Fitting data with very small alpha may cause precision problems.\n",
      "  ConvergenceWarning)\n"
     ]
    },
    {
     "data": {
      "text/plain": [
       "LassoCV(alphas=None, copy_X=True, cv=None, eps=0.001, fit_intercept=True,\n",
       "    max_iter=1000, n_alphas=100, n_jobs=1, normalize=False, positive=False,\n",
       "    precompute='auto', random_state=None, selection='cyclic', tol=0.0001,\n",
       "    verbose=False)"
      ]
     },
     "execution_count": 50,
     "metadata": {},
     "output_type": "execute_result"
    }
   ],
   "source": [
    "lasso.fit(X_train_sc, y_train)"
   ]
  },
  {
   "cell_type": "code",
   "execution_count": 51,
   "metadata": {},
   "outputs": [
    {
     "data": {
      "text/plain": [
       "0.10641451929726059"
      ]
     },
     "execution_count": 51,
     "metadata": {},
     "output_type": "execute_result"
    }
   ],
   "source": [
    "lasso.alpha_"
   ]
  },
  {
   "cell_type": "markdown",
   "metadata": {},
   "source": [
    "---\n",
    "\n",
    "### 8) Cross-validate the lasso $R^2$ with the optimal alpha.\n",
    "\n",
    "Is it better than the linear regression? Is it better than ridge? What do the differences in results imply about the issues with the data set?"
   ]
  },
  {
   "cell_type": "markdown",
   "metadata": {
    "collapsed": true
   },
   "source": [
    "# A:\n",
    "\n",
    "#### Yes, the lasso regression model works better than both the linear regression and the ridge.  The differences in results implies that the data set contains too many columns or predictors that are noise and do not truly impact Kobe Bryant's amount of shots made."
   ]
  },
  {
   "cell_type": "code",
   "execution_count": 52,
   "metadata": {},
   "outputs": [
    {
     "name": "stderr",
     "output_type": "stream",
     "text": [
      "/anaconda3/lib/python3.6/site-packages/sklearn/linear_model/coordinate_descent.py:491: ConvergenceWarning: Objective did not converge. You might want to increase the number of iterations. Fitting data with very small alpha may cause precision problems.\n",
      "  ConvergenceWarning)\n",
      "/anaconda3/lib/python3.6/site-packages/sklearn/linear_model/coordinate_descent.py:491: ConvergenceWarning: Objective did not converge. You might want to increase the number of iterations. Fitting data with very small alpha may cause precision problems.\n",
      "  ConvergenceWarning)\n",
      "/anaconda3/lib/python3.6/site-packages/sklearn/linear_model/coordinate_descent.py:491: ConvergenceWarning: Objective did not converge. You might want to increase the number of iterations. Fitting data with very small alpha may cause precision problems.\n",
      "  ConvergenceWarning)\n",
      "/anaconda3/lib/python3.6/site-packages/sklearn/linear_model/coordinate_descent.py:491: ConvergenceWarning: Objective did not converge. You might want to increase the number of iterations. Fitting data with very small alpha may cause precision problems.\n",
      "  ConvergenceWarning)\n",
      "/anaconda3/lib/python3.6/site-packages/sklearn/linear_model/coordinate_descent.py:491: ConvergenceWarning: Objective did not converge. You might want to increase the number of iterations. Fitting data with very small alpha may cause precision problems.\n",
      "  ConvergenceWarning)\n",
      "/anaconda3/lib/python3.6/site-packages/sklearn/linear_model/coordinate_descent.py:491: ConvergenceWarning: Objective did not converge. You might want to increase the number of iterations. Fitting data with very small alpha may cause precision problems.\n",
      "  ConvergenceWarning)\n",
      "/anaconda3/lib/python3.6/site-packages/sklearn/linear_model/coordinate_descent.py:491: ConvergenceWarning: Objective did not converge. You might want to increase the number of iterations. Fitting data with very small alpha may cause precision problems.\n",
      "  ConvergenceWarning)\n",
      "/anaconda3/lib/python3.6/site-packages/sklearn/linear_model/coordinate_descent.py:491: ConvergenceWarning: Objective did not converge. You might want to increase the number of iterations. Fitting data with very small alpha may cause precision problems.\n",
      "  ConvergenceWarning)\n",
      "/anaconda3/lib/python3.6/site-packages/sklearn/linear_model/coordinate_descent.py:491: ConvergenceWarning: Objective did not converge. You might want to increase the number of iterations. Fitting data with very small alpha may cause precision problems.\n",
      "  ConvergenceWarning)\n",
      "/anaconda3/lib/python3.6/site-packages/sklearn/linear_model/coordinate_descent.py:491: ConvergenceWarning: Objective did not converge. You might want to increase the number of iterations. Fitting data with very small alpha may cause precision problems.\n",
      "  ConvergenceWarning)\n",
      "/anaconda3/lib/python3.6/site-packages/sklearn/linear_model/coordinate_descent.py:491: ConvergenceWarning: Objective did not converge. You might want to increase the number of iterations. Fitting data with very small alpha may cause precision problems.\n",
      "  ConvergenceWarning)\n",
      "/anaconda3/lib/python3.6/site-packages/sklearn/linear_model/coordinate_descent.py:491: ConvergenceWarning: Objective did not converge. You might want to increase the number of iterations. Fitting data with very small alpha may cause precision problems.\n",
      "  ConvergenceWarning)\n",
      "/anaconda3/lib/python3.6/site-packages/sklearn/linear_model/coordinate_descent.py:491: ConvergenceWarning: Objective did not converge. You might want to increase the number of iterations. Fitting data with very small alpha may cause precision problems.\n",
      "  ConvergenceWarning)\n",
      "/anaconda3/lib/python3.6/site-packages/sklearn/linear_model/coordinate_descent.py:491: ConvergenceWarning: Objective did not converge. You might want to increase the number of iterations. Fitting data with very small alpha may cause precision problems.\n",
      "  ConvergenceWarning)\n",
      "/anaconda3/lib/python3.6/site-packages/sklearn/linear_model/coordinate_descent.py:491: ConvergenceWarning: Objective did not converge. You might want to increase the number of iterations. Fitting data with very small alpha may cause precision problems.\n",
      "  ConvergenceWarning)\n",
      "/anaconda3/lib/python3.6/site-packages/sklearn/linear_model/coordinate_descent.py:491: ConvergenceWarning: Objective did not converge. You might want to increase the number of iterations. Fitting data with very small alpha may cause precision problems.\n",
      "  ConvergenceWarning)\n",
      "/anaconda3/lib/python3.6/site-packages/sklearn/linear_model/coordinate_descent.py:491: ConvergenceWarning: Objective did not converge. You might want to increase the number of iterations. Fitting data with very small alpha may cause precision problems.\n",
      "  ConvergenceWarning)\n",
      "/anaconda3/lib/python3.6/site-packages/sklearn/linear_model/coordinate_descent.py:491: ConvergenceWarning: Objective did not converge. You might want to increase the number of iterations. Fitting data with very small alpha may cause precision problems.\n",
      "  ConvergenceWarning)\n",
      "/anaconda3/lib/python3.6/site-packages/sklearn/linear_model/coordinate_descent.py:491: ConvergenceWarning: Objective did not converge. You might want to increase the number of iterations. Fitting data with very small alpha may cause precision problems.\n",
      "  ConvergenceWarning)\n",
      "/anaconda3/lib/python3.6/site-packages/sklearn/linear_model/coordinate_descent.py:491: ConvergenceWarning: Objective did not converge. You might want to increase the number of iterations. Fitting data with very small alpha may cause precision problems.\n",
      "  ConvergenceWarning)\n",
      "/anaconda3/lib/python3.6/site-packages/sklearn/linear_model/coordinate_descent.py:491: ConvergenceWarning: Objective did not converge. You might want to increase the number of iterations. Fitting data with very small alpha may cause precision problems.\n",
      "  ConvergenceWarning)\n",
      "/anaconda3/lib/python3.6/site-packages/sklearn/linear_model/coordinate_descent.py:491: ConvergenceWarning: Objective did not converge. You might want to increase the number of iterations. Fitting data with very small alpha may cause precision problems.\n",
      "  ConvergenceWarning)\n",
      "/anaconda3/lib/python3.6/site-packages/sklearn/linear_model/coordinate_descent.py:491: ConvergenceWarning: Objective did not converge. You might want to increase the number of iterations. Fitting data with very small alpha may cause precision problems.\n",
      "  ConvergenceWarning)\n",
      "/anaconda3/lib/python3.6/site-packages/sklearn/linear_model/coordinate_descent.py:491: ConvergenceWarning: Objective did not converge. You might want to increase the number of iterations. Fitting data with very small alpha may cause precision problems.\n",
      "  ConvergenceWarning)\n",
      "/anaconda3/lib/python3.6/site-packages/sklearn/linear_model/coordinate_descent.py:491: ConvergenceWarning: Objective did not converge. You might want to increase the number of iterations. Fitting data with very small alpha may cause precision problems.\n",
      "  ConvergenceWarning)\n",
      "/anaconda3/lib/python3.6/site-packages/sklearn/linear_model/coordinate_descent.py:491: ConvergenceWarning: Objective did not converge. You might want to increase the number of iterations. Fitting data with very small alpha may cause precision problems.\n",
      "  ConvergenceWarning)\n",
      "/anaconda3/lib/python3.6/site-packages/sklearn/linear_model/coordinate_descent.py:491: ConvergenceWarning: Objective did not converge. You might want to increase the number of iterations. Fitting data with very small alpha may cause precision problems.\n",
      "  ConvergenceWarning)\n",
      "/anaconda3/lib/python3.6/site-packages/sklearn/linear_model/coordinate_descent.py:491: ConvergenceWarning: Objective did not converge. You might want to increase the number of iterations. Fitting data with very small alpha may cause precision problems.\n",
      "  ConvergenceWarning)\n",
      "/anaconda3/lib/python3.6/site-packages/sklearn/linear_model/coordinate_descent.py:491: ConvergenceWarning: Objective did not converge. You might want to increase the number of iterations. Fitting data with very small alpha may cause precision problems.\n",
      "  ConvergenceWarning)\n",
      "/anaconda3/lib/python3.6/site-packages/sklearn/linear_model/coordinate_descent.py:491: ConvergenceWarning: Objective did not converge. You might want to increase the number of iterations. Fitting data with very small alpha may cause precision problems.\n",
      "  ConvergenceWarning)\n",
      "/anaconda3/lib/python3.6/site-packages/sklearn/linear_model/coordinate_descent.py:491: ConvergenceWarning: Objective did not converge. You might want to increase the number of iterations. Fitting data with very small alpha may cause precision problems.\n",
      "  ConvergenceWarning)\n"
     ]
    },
    {
     "name": "stderr",
     "output_type": "stream",
     "text": [
      "/anaconda3/lib/python3.6/site-packages/sklearn/linear_model/coordinate_descent.py:491: ConvergenceWarning: Objective did not converge. You might want to increase the number of iterations. Fitting data with very small alpha may cause precision problems.\n",
      "  ConvergenceWarning)\n",
      "/anaconda3/lib/python3.6/site-packages/sklearn/linear_model/coordinate_descent.py:491: ConvergenceWarning: Objective did not converge. You might want to increase the number of iterations. Fitting data with very small alpha may cause precision problems.\n",
      "  ConvergenceWarning)\n",
      "/anaconda3/lib/python3.6/site-packages/sklearn/linear_model/coordinate_descent.py:491: ConvergenceWarning: Objective did not converge. You might want to increase the number of iterations. Fitting data with very small alpha may cause precision problems.\n",
      "  ConvergenceWarning)\n",
      "/anaconda3/lib/python3.6/site-packages/sklearn/linear_model/coordinate_descent.py:491: ConvergenceWarning: Objective did not converge. You might want to increase the number of iterations. Fitting data with very small alpha may cause precision problems.\n",
      "  ConvergenceWarning)\n"
     ]
    },
    {
     "data": {
      "text/plain": [
       "0.6313409992429427"
      ]
     },
     "execution_count": 52,
     "metadata": {},
     "output_type": "execute_result"
    }
   ],
   "source": [
    "cross_val_score(lasso, X_train_sc, y_train, cv=10).mean()"
   ]
  },
  {
   "cell_type": "markdown",
   "metadata": {},
   "source": [
    "---\n",
    "\n",
    "### 9) Look at the coefficients for variables in the lasso.\n",
    "\n",
    "1. Show the coefficient for variables, ordered from largest to smallest coefficient by absolute value.\n",
    "2. What percent of the variables in the original data set are \"zeroed-out\" by the lasso?\n",
    "3. What are the most important predictors for how many shots Kobe made in a game?\n",
    "\n",
    "> **Note:** If you only fit the lasso within `cross_val_score`, you'll have to refit it outside of that function to pull out the coefficients."
   ]
  },
  {
   "cell_type": "code",
   "execution_count": null,
   "metadata": {},
   "outputs": [],
   "source": [
    "lasso.fit(X_train_sc, y_train)"
   ]
  },
  {
   "cell_type": "code",
   "execution_count": 94,
   "metadata": {},
   "outputs": [],
   "source": [
    "col_list = list(kobe.columns)"
   ]
  },
  {
   "cell_type": "code",
   "execution_count": 96,
   "metadata": {},
   "outputs": [],
   "source": [
    "col_list.remove('SHOTS_MADE')"
   ]
  },
  {
   "cell_type": "code",
   "execution_count": 102,
   "metadata": {},
   "outputs": [],
   "source": [
    "coef_list = list(lasso.coef_)"
   ]
  },
  {
   "cell_type": "code",
   "execution_count": 107,
   "metadata": {},
   "outputs": [],
   "source": [
    "lasso_dict = dict(zip(col_list, coef_list))"
   ]
  },
  {
   "cell_type": "code",
   "execution_count": 134,
   "metadata": {},
   "outputs": [],
   "source": [
    "absolute_lasso_dict = {}\n",
    "\n",
    "for k, v in lasso_dict.items():\n",
    "    absolute_lasso_dict[k] = abs(v)"
   ]
  },
  {
   "cell_type": "markdown",
   "metadata": {},
   "source": [
    "### 1. Show the coefficient for variables, ordered from largest to smallest coefficient by absolute value.\n",
    "\n",
    "#### Please see below the variables and their absolute-value-coefficients, from largest to smallest."
   ]
  },
  {
   "cell_type": "code",
   "execution_count": 137,
   "metadata": {},
   "outputs": [
    {
     "data": {
      "text/plain": [
       "[('COMBINED_SHOT_TYPE:jump_shot', 1.45701649195532),\n",
       " ('SHOT_TYPE:2pt_field_goal', 0.6179224411893001),\n",
       " ('SHOT_ZONE_BASIC:restricted_area', 0.4825784448251801),\n",
       " ('COMBINED_SHOT_TYPE:dunk', 0.3636053042436625),\n",
       " ('ACTION_TYPE:jump_shot', 0.2616596028383961),\n",
       " ('SECONDS_REMAINING', 0.17853307265205004),\n",
       " ('SHOT_ZONE_AREA:right_side_center(rc)', 0.16367594877379987),\n",
       " ('SHOT_ZONE_AREA:center(c)', 0.10401419760737111),\n",
       " ('SEASON_OPPONENT:nyk:2008-09', 0.10221714891416465),\n",
       " ('SEASON_OPPONENT:mem:2009-10', 0.10172125157749642),\n",
       " ('SEASON_OPPONENT:sea:2004-05', 0.09424102501194119),\n",
       " ('SEASON_OPPONENT:bos:2015-16', 0.09174436947166077),\n",
       " ('ACTION_TYPE:layup_shot', 0.0907653545881624),\n",
       " ('SEASON_OPPONENT:sac:1999-00', 0.09003236233275837),\n",
       " ('SEASON_OPPONENT:sas:2014-15', 0.0632199527329714),\n",
       " ('SEASON_OPPONENT:phx:2007-08', 0.06105658873051661),\n",
       " ('SEASON_OPPONENT:phx:2011-12', 0.054788647624500655),\n",
       " ('SEASON_OPPONENT:mem:2004-05', 0.05021294288160597),\n",
       " ('SEASON_OPPONENT:dal:2004-05', 0.04875306643495259),\n",
       " ('SEASON_OPPONENT:hou:2008-09', 0.0478729998576377),\n",
       " ('SEASON:2014-15', 0.042504726888917654),\n",
       " ('SEASON_OPPONENT:nyk:2009-10', 0.04047771586058195),\n",
       " ('SEASON_OPPONENT:phx:2005-06', 0.03911902540498694),\n",
       " ('SEASON_OPPONENT:ind:2015-16', 0.03679854297182508),\n",
       " ('SEASON_OPPONENT:gsw:2001-02', 0.036142701620041635),\n",
       " ('ACTION_TYPE:running_bank_shot', 0.03254040329394096),\n",
       " ('SEASON_OPPONENT:tor:2004-05', 0.031781106450532726),\n",
       " ('SEASON_OPPONENT:det:2015-16', 0.02824116283531695),\n",
       " ('SEASON_OPPONENT:uta:2004-05', 0.02767480730158938),\n",
       " ('ACTION_TYPE:running_hook_shot', 0.02756657219590795),\n",
       " ('SEASON:2007-08', 0.026561573567229105),\n",
       " ('ACTION_TYPE:reverse_dunk_shot', 0.025988450761586752),\n",
       " ('SEASON_OPPONENT:ind:1999-00', 0.025968949913623317),\n",
       " ('SEASON_OPPONENT:por:2006-07', 0.02240767391761205),\n",
       " ('SEASON_OPPONENT:okc:2014-15', 0.01981881580949216),\n",
       " ('SEASON_OPPONENT:hou:1999-00', 0.019564819443381325),\n",
       " ('SEASON_OPPONENT:ind:2002-03', 0.018870955915194384),\n",
       " ('SEASON_OPPONENT:por:2002-03', 0.018765338493157847),\n",
       " ('SEASON:2015-16', 0.018233402870122248),\n",
       " ('SEASON_OPPONENT:den:2007-08', 0.017608805583713177),\n",
       " ('SEASON_OPPONENT:det:2009-10', 0.015155200762372686),\n",
       " ('SEASON_OPPONENT:gsw:2000-01', 0.015057222537861405),\n",
       " ('SEASON_OPPONENT:det:2011-12', 0.014856067405804155),\n",
       " ('ACTION_TYPE:jump_bank_shot', 0.014578025293986005),\n",
       " ('SEASON_OPPONENT:hou:2015-16', 0.014441848087196929),\n",
       " ('SEASON_OPPONENT:dal:2008-09', 0.013617373377202549),\n",
       " ('SHOT_ZONE_RANGE:16-24_ft.', 0.013045590011934454),\n",
       " ('SEASON_OPPONENT:gsw:2004-05', 0.012455061475423362),\n",
       " ('SEASON_OPPONENT:gsw:2010-11', 0.011361329778231054),\n",
       " ('SEASON_OPPONENT:noh:2011-12', 0.010381803495990933),\n",
       " ('SEASON_OPPONENT:orl:2000-01', 0.009067070685499579),\n",
       " ('SEASON_OPPONENT:mia:2014-15', 0.008495227838992654),\n",
       " ('SEASON_OPPONENT:uta:2011-12', 0.0062973863455576375),\n",
       " ('SEASON_OPPONENT:phi:2015-16', 0.005672054419189076),\n",
       " ('SEASON_OPPONENT:sea:2007-08', 0.0046696604758030185),\n",
       " ('SEASON_OPPONENT:por:2007-08', 0.0038388002960789004),\n",
       " ('ACTION_TYPE:tip_shot', 0.003417586147531365),\n",
       " ('SEASON_OPPONENT:dal:2012-13', 0.0029431140246811015),\n",
       " ('ACTION_TYPE:fadeaway_jump_shot', 0.0016633085646720089),\n",
       " ('SEASON_OPPONENT:min:2006-07', 0.0014780438275472775),\n",
       " ('SEASON_OPPONENT:orl:2004-05', 0.0011801183747348588),\n",
       " ('SEASON_OPPONENT:njn:2011-12', 0.0008178495351275914),\n",
       " ('SEASON_OPPONENT:dal:2007-08', 0.0007508054962809309),\n",
       " ('AWAY_GAME', 0.0),\n",
       " ('SEASON_OPPONENT:atl:1996-97', 0.0),\n",
       " ('SEASON_OPPONENT:atl:1997-98', 0.0),\n",
       " ('SEASON_OPPONENT:atl:1999-00', 0.0),\n",
       " ('SEASON_OPPONENT:atl:2000-01', 0.0),\n",
       " ('SEASON_OPPONENT:atl:2001-02', 0.0),\n",
       " ('SEASON_OPPONENT:atl:2002-03', 0.0),\n",
       " ('SEASON_OPPONENT:atl:2003-04', 0.0),\n",
       " ('SEASON_OPPONENT:atl:2004-05', 0.0),\n",
       " ('SEASON_OPPONENT:atl:2005-06', 0.0),\n",
       " ('SEASON_OPPONENT:atl:2006-07', 0.0),\n",
       " ('SEASON_OPPONENT:atl:2007-08', 0.0),\n",
       " ('SEASON_OPPONENT:atl:2008-09', 0.0),\n",
       " ('SEASON_OPPONENT:atl:2009-10', 0.0),\n",
       " ('SEASON_OPPONENT:atl:2010-11', 0.0),\n",
       " ('SEASON_OPPONENT:atl:2011-12', 0.0),\n",
       " ('SEASON_OPPONENT:atl:2012-13', 0.0),\n",
       " ('SEASON_OPPONENT:atl:2013-14', 0.0),\n",
       " ('SEASON_OPPONENT:atl:2014-15', 0.0),\n",
       " ('SEASON_OPPONENT:atl:2015-16', 0.0),\n",
       " ('SEASON_OPPONENT:bkn:2012-13', 0.0),\n",
       " ('SEASON_OPPONENT:bkn:2015-16', 0.0),\n",
       " ('SEASON_OPPONENT:bos:1996-97', 0.0),\n",
       " ('SEASON_OPPONENT:bos:1997-98', 0.0),\n",
       " ('SEASON_OPPONENT:bos:1999-00', 0.0),\n",
       " ('SEASON_OPPONENT:bos:2001-02', 0.0),\n",
       " ('SEASON_OPPONENT:bos:2002-03', 0.0),\n",
       " ('SEASON_OPPONENT:bos:2003-04', 0.0),\n",
       " ('SEASON_OPPONENT:bos:2004-05', 0.0),\n",
       " ('SEASON_OPPONENT:bos:2005-06', 0.0),\n",
       " ('SEASON_OPPONENT:bos:2006-07', 0.0),\n",
       " ('SEASON_OPPONENT:bos:2007-08', 0.0),\n",
       " ('SEASON_OPPONENT:bos:2008-09', 0.0),\n",
       " ('SEASON_OPPONENT:bos:2009-10', 0.0),\n",
       " ('SEASON_OPPONENT:bos:2010-11', 0.0),\n",
       " ('SEASON_OPPONENT:bos:2011-12', 0.0),\n",
       " ('SEASON_OPPONENT:bos:2012-13', 0.0),\n",
       " ('SEASON_OPPONENT:bos:2014-15', 0.0),\n",
       " ('SEASON_OPPONENT:cha:1996-97', 0.0),\n",
       " ('SEASON_OPPONENT:cha:1997-98', 0.0),\n",
       " ('SEASON_OPPONENT:cha:1998-99', 0.0),\n",
       " ('SEASON_OPPONENT:cha:1999-00', 0.0),\n",
       " ('SEASON_OPPONENT:cha:2000-01', 0.0),\n",
       " ('SEASON_OPPONENT:cha:2001-02', 0.0),\n",
       " ('SEASON_OPPONENT:cha:2004-05', 0.0),\n",
       " ('SEASON_OPPONENT:cha:2005-06', 0.0),\n",
       " ('SEASON_OPPONENT:cha:2006-07', 0.0),\n",
       " ('SEASON_OPPONENT:cha:2007-08', 0.0),\n",
       " ('SEASON_OPPONENT:cha:2008-09', 0.0),\n",
       " ('SEASON_OPPONENT:cha:2009-10', 0.0),\n",
       " ('SEASON_OPPONENT:cha:2010-11', 0.0),\n",
       " ('SEASON_OPPONENT:cha:2011-12', 0.0),\n",
       " ('SEASON_OPPONENT:cha:2012-13', 0.0),\n",
       " ('SEASON_OPPONENT:cha:2013-14', 0.0),\n",
       " ('SEASON_OPPONENT:cha:2014-15', 0.0),\n",
       " ('SEASON_OPPONENT:cha:2015-16', 0.0),\n",
       " ('SEASON_OPPONENT:chi:1996-97', 0.0),\n",
       " ('SEASON_OPPONENT:chi:1997-98', 0.0),\n",
       " ('SEASON_OPPONENT:chi:1999-00', 0.0),\n",
       " ('SEASON_OPPONENT:chi:2000-01', 0.0),\n",
       " ('SEASON_OPPONENT:chi:2001-02', 0.0),\n",
       " ('SEASON_OPPONENT:chi:2002-03', 0.0),\n",
       " ('SEASON_OPPONENT:chi:2003-04', 0.0),\n",
       " ('SEASON_OPPONENT:chi:2004-05', 0.0),\n",
       " ('SEASON_OPPONENT:chi:2005-06', 0.0),\n",
       " ('SEASON_OPPONENT:chi:2006-07', 0.0),\n",
       " ('SEASON_OPPONENT:chi:2007-08', 0.0),\n",
       " ('SEASON_OPPONENT:chi:2008-09', 0.0),\n",
       " ('SEASON_OPPONENT:chi:2009-10', 0.0),\n",
       " ('SEASON_OPPONENT:chi:2010-11', 0.0),\n",
       " ('SEASON_OPPONENT:chi:2011-12', 0.0),\n",
       " ('SEASON_OPPONENT:chi:2012-13', 0.0),\n",
       " ('SEASON_OPPONENT:chi:2015-16', 0.0),\n",
       " ('SEASON_OPPONENT:cle:1996-97', 0.0),\n",
       " ('SEASON_OPPONENT:cle:1997-98', 0.0),\n",
       " ('SEASON_OPPONENT:cle:1998-99', 0.0),\n",
       " ('SEASON_OPPONENT:cle:1999-00', 0.0),\n",
       " ('SEASON_OPPONENT:cle:2000-01', 0.0),\n",
       " ('SEASON_OPPONENT:cle:2001-02', 0.0),\n",
       " ('SEASON_OPPONENT:cle:2002-03', 0.0),\n",
       " ('SEASON_OPPONENT:cle:2003-04', 0.0),\n",
       " ('SEASON_OPPONENT:cle:2004-05', 0.0),\n",
       " ('SEASON_OPPONENT:cle:2005-06', 0.0),\n",
       " ('SEASON_OPPONENT:cle:2006-07', 0.0),\n",
       " ('SEASON_OPPONENT:cle:2007-08', 0.0),\n",
       " ('SEASON_OPPONENT:cle:2008-09', 0.0),\n",
       " ('SEASON_OPPONENT:cle:2009-10', 0.0),\n",
       " ('SEASON_OPPONENT:cle:2010-11', 0.0),\n",
       " ('SEASON_OPPONENT:cle:2011-12', 0.0),\n",
       " ('SEASON_OPPONENT:cle:2012-13', 0.0),\n",
       " ('SEASON_OPPONENT:cle:2014-15', 0.0),\n",
       " ('SEASON_OPPONENT:cle:2015-16', 0.0),\n",
       " ('SEASON_OPPONENT:dal:1996-97', 0.0),\n",
       " ('SEASON_OPPONENT:dal:1997-98', 0.0),\n",
       " ('SEASON_OPPONENT:dal:1998-99', 0.0),\n",
       " ('SEASON_OPPONENT:dal:1999-00', 0.0),\n",
       " ('SEASON_OPPONENT:dal:2000-01', 0.0),\n",
       " ('SEASON_OPPONENT:dal:2001-02', 0.0),\n",
       " ('SEASON_OPPONENT:dal:2002-03', 0.0),\n",
       " ('SEASON_OPPONENT:dal:2003-04', 0.0),\n",
       " ('SEASON_OPPONENT:dal:2005-06', 0.0),\n",
       " ('SEASON_OPPONENT:dal:2006-07', 0.0),\n",
       " ('SEASON_OPPONENT:dal:2009-10', 0.0),\n",
       " ('SEASON_OPPONENT:dal:2010-11', 0.0),\n",
       " ('SEASON_OPPONENT:dal:2011-12', 0.0),\n",
       " ('SEASON_OPPONENT:dal:2014-15', 0.0),\n",
       " ('SEASON_OPPONENT:dal:2015-16', 0.0),\n",
       " ('SEASON_OPPONENT:den:1996-97', 0.0),\n",
       " ('SEASON_OPPONENT:den:1997-98', 0.0),\n",
       " ('SEASON_OPPONENT:den:1998-99', 0.0),\n",
       " ('SEASON_OPPONENT:den:1999-00', 0.0),\n",
       " ('SEASON_OPPONENT:den:2000-01', 0.0),\n",
       " ('SEASON_OPPONENT:den:2001-02', 0.0),\n",
       " ('SEASON_OPPONENT:den:2002-03', 0.0),\n",
       " ('SEASON_OPPONENT:den:2003-04', 0.0),\n",
       " ('SEASON_OPPONENT:den:2004-05', 0.0),\n",
       " ('SEASON_OPPONENT:den:2005-06', 0.0),\n",
       " ('SEASON_OPPONENT:den:2006-07', 0.0),\n",
       " ('SEASON_OPPONENT:den:2008-09', 0.0),\n",
       " ('SEASON_OPPONENT:den:2009-10', 0.0),\n",
       " ('SEASON_OPPONENT:den:2010-11', 0.0),\n",
       " ('SEASON_OPPONENT:den:2011-12', 0.0),\n",
       " ('SEASON_OPPONENT:den:2012-13', 0.0),\n",
       " ('SEASON_OPPONENT:den:2014-15', 0.0),\n",
       " ('SEASON_OPPONENT:den:2015-16', 0.0),\n",
       " ('SEASON_OPPONENT:det:1996-97', 0.0),\n",
       " ('SEASON_OPPONENT:det:1997-98', 0.0),\n",
       " ('SEASON_OPPONENT:det:1999-00', 0.0),\n",
       " ('SEASON_OPPONENT:det:2000-01', 0.0),\n",
       " ('SEASON_OPPONENT:det:2001-02', 0.0),\n",
       " ('SEASON_OPPONENT:det:2002-03', 0.0),\n",
       " ('SEASON_OPPONENT:det:2003-04', 0.0),\n",
       " ('SEASON_OPPONENT:det:2004-05', 0.0),\n",
       " ('SEASON_OPPONENT:det:2005-06', 0.0),\n",
       " ('SEASON_OPPONENT:det:2006-07', 0.0),\n",
       " ('SEASON_OPPONENT:det:2007-08', 0.0),\n",
       " ('SEASON_OPPONENT:det:2008-09', 0.0),\n",
       " ('SEASON_OPPONENT:det:2010-11', 0.0),\n",
       " ('SEASON_OPPONENT:det:2012-13', 0.0),\n",
       " ('SEASON_OPPONENT:det:2014-15', 0.0),\n",
       " ('SEASON_OPPONENT:gsw:1996-97', 0.0),\n",
       " ('SEASON_OPPONENT:gsw:1997-98', 0.0),\n",
       " ('SEASON_OPPONENT:gsw:1998-99', 0.0),\n",
       " ('SEASON_OPPONENT:gsw:1999-00', 0.0),\n",
       " ('SEASON_OPPONENT:gsw:2002-03', 0.0),\n",
       " ('SEASON_OPPONENT:gsw:2003-04', 0.0),\n",
       " ('SEASON_OPPONENT:gsw:2005-06', 0.0),\n",
       " ('SEASON_OPPONENT:gsw:2006-07', 0.0),\n",
       " ('SEASON_OPPONENT:gsw:2007-08', 0.0),\n",
       " ('SEASON_OPPONENT:gsw:2008-09', 0.0),\n",
       " ('SEASON_OPPONENT:gsw:2009-10', 0.0),\n",
       " ('SEASON_OPPONENT:gsw:2011-12', 0.0),\n",
       " ('SEASON_OPPONENT:gsw:2012-13', 0.0),\n",
       " ('SEASON_OPPONENT:gsw:2014-15', 0.0),\n",
       " ('SEASON_OPPONENT:gsw:2015-16', 0.0),\n",
       " ('SEASON_OPPONENT:hou:1996-97', 0.0),\n",
       " ('SEASON_OPPONENT:hou:1997-98', 0.0),\n",
       " ('SEASON_OPPONENT:hou:1998-99', 0.0),\n",
       " ('SEASON_OPPONENT:hou:2000-01', 0.0),\n",
       " ('SEASON_OPPONENT:hou:2001-02', 0.0),\n",
       " ('SEASON_OPPONENT:hou:2002-03', 0.0),\n",
       " ('SEASON_OPPONENT:hou:2003-04', 0.0),\n",
       " ('SEASON_OPPONENT:hou:2004-05', 0.0),\n",
       " ('SEASON_OPPONENT:hou:2005-06', 0.0),\n",
       " ('SEASON_OPPONENT:hou:2006-07', 0.0),\n",
       " ('SEASON_OPPONENT:hou:2007-08', 0.0),\n",
       " ('SEASON_OPPONENT:hou:2009-10', 0.0),\n",
       " ('SEASON_OPPONENT:hou:2010-11', 0.0),\n",
       " ('SEASON_OPPONENT:hou:2011-12', 0.0),\n",
       " ('SEASON_OPPONENT:hou:2012-13', 0.0),\n",
       " ('SEASON_OPPONENT:hou:2014-15', 0.0),\n",
       " ('SEASON_OPPONENT:ind:1996-97', 0.0),\n",
       " ('SEASON_OPPONENT:ind:1997-98', 0.0),\n",
       " ('SEASON_OPPONENT:ind:1998-99', 0.0),\n",
       " ('SEASON_OPPONENT:ind:2000-01', 0.0),\n",
       " ('SEASON_OPPONENT:ind:2001-02', 0.0),\n",
       " ('SEASON_OPPONENT:ind:2003-04', 0.0),\n",
       " ('SEASON_OPPONENT:ind:2004-05', 0.0),\n",
       " ('SEASON_OPPONENT:ind:2005-06', 0.0),\n",
       " ('SEASON_OPPONENT:ind:2006-07', 0.0),\n",
       " ('SEASON_OPPONENT:ind:2007-08', 0.0),\n",
       " ('SEASON_OPPONENT:ind:2008-09', 0.0),\n",
       " ('SEASON_OPPONENT:ind:2009-10', 0.0),\n",
       " ('SEASON_OPPONENT:ind:2010-11', 0.0),\n",
       " ('SEASON_OPPONENT:ind:2011-12', 0.0),\n",
       " ('SEASON_OPPONENT:ind:2012-13', 0.0),\n",
       " ('SEASON_OPPONENT:ind:2014-15', 0.0),\n",
       " ('SEASON_OPPONENT:lac:1996-97', 0.0),\n",
       " ('SEASON_OPPONENT:lac:1997-98', 0.0),\n",
       " ('SEASON_OPPONENT:lac:1998-99', 0.0),\n",
       " ('SEASON_OPPONENT:lac:1999-00', 0.0),\n",
       " ('SEASON_OPPONENT:lac:2000-01', 0.0),\n",
       " ('SEASON_OPPONENT:lac:2001-02', 0.0),\n",
       " ('SEASON_OPPONENT:lac:2002-03', 0.0),\n",
       " ('SEASON_OPPONENT:lac:2003-04', 0.0),\n",
       " ('SEASON_OPPONENT:lac:2004-05', 0.0),\n",
       " ('SEASON_OPPONENT:lac:2005-06', 0.0),\n",
       " ('SEASON_OPPONENT:lac:2006-07', 0.0),\n",
       " ('SEASON_OPPONENT:lac:2007-08', 0.0),\n",
       " ('SEASON_OPPONENT:lac:2008-09', 0.0),\n",
       " ('SEASON_OPPONENT:lac:2009-10', 0.0),\n",
       " ('SEASON_OPPONENT:lac:2010-11', 0.0),\n",
       " ('SEASON_OPPONENT:lac:2011-12', 0.0),\n",
       " ('SEASON_OPPONENT:lac:2012-13', 0.0),\n",
       " ('SEASON_OPPONENT:lac:2014-15', 0.0),\n",
       " ('SEASON_OPPONENT:lac:2015-16', 0.0),\n",
       " ('SEASON_OPPONENT:mem:2001-02', 0.0),\n",
       " ('SEASON_OPPONENT:mem:2002-03', 0.0),\n",
       " ('SEASON_OPPONENT:mem:2003-04', 0.0),\n",
       " ('SEASON_OPPONENT:mem:2005-06', 0.0),\n",
       " ('SEASON_OPPONENT:mem:2006-07', 0.0),\n",
       " ('SEASON_OPPONENT:mem:2007-08', 0.0),\n",
       " ('SEASON_OPPONENT:mem:2008-09', 0.0),\n",
       " ('SEASON_OPPONENT:mem:2010-11', 0.0),\n",
       " ('SEASON_OPPONENT:mem:2011-12', 0.0),\n",
       " ('SEASON_OPPONENT:mem:2012-13', 0.0),\n",
       " ('SEASON_OPPONENT:mem:2013-14', 0.0),\n",
       " ('SEASON_OPPONENT:mem:2014-15', 0.0),\n",
       " ('SEASON_OPPONENT:mem:2015-16', 0.0),\n",
       " ('SEASON_OPPONENT:mia:1996-97', 0.0),\n",
       " ('SEASON_OPPONENT:mia:1997-98', 0.0),\n",
       " ('SEASON_OPPONENT:mia:1999-00', 0.0),\n",
       " ('SEASON_OPPONENT:mia:2000-01', 0.0),\n",
       " ('SEASON_OPPONENT:mia:2001-02', 0.0),\n",
       " ('SEASON_OPPONENT:mia:2002-03', 0.0),\n",
       " ('SEASON_OPPONENT:mia:2003-04', 0.0),\n",
       " ('SEASON_OPPONENT:mia:2004-05', 0.0),\n",
       " ('SEASON_OPPONENT:mia:2005-06', 0.0),\n",
       " ('SEASON_OPPONENT:mia:2006-07', 0.0),\n",
       " ('SEASON_OPPONENT:mia:2007-08', 0.0),\n",
       " ('SEASON_OPPONENT:mia:2008-09', 0.0),\n",
       " ('SEASON_OPPONENT:mia:2009-10', 0.0),\n",
       " ('SEASON_OPPONENT:mia:2010-11', 0.0),\n",
       " ('SEASON_OPPONENT:mia:2011-12', 0.0),\n",
       " ('SEASON_OPPONENT:mia:2012-13', 0.0),\n",
       " ('SEASON_OPPONENT:mia:2015-16', 0.0),\n",
       " ('SEASON_OPPONENT:mil:1996-97', 0.0),\n",
       " ('SEASON_OPPONENT:mil:1997-98', 0.0),\n",
       " ('SEASON_OPPONENT:mil:1999-00', 0.0),\n",
       " ('SEASON_OPPONENT:mil:2000-01', 0.0),\n",
       " ('SEASON_OPPONENT:mil:2001-02', 0.0),\n",
       " ('SEASON_OPPONENT:mil:2002-03', 0.0),\n",
       " ('SEASON_OPPONENT:mil:2003-04', 0.0),\n",
       " ('SEASON_OPPONENT:mil:2004-05', 0.0),\n",
       " ('SEASON_OPPONENT:mil:2005-06', 0.0),\n",
       " ('SEASON_OPPONENT:mil:2006-07', 0.0),\n",
       " ('SEASON_OPPONENT:mil:2007-08', 0.0),\n",
       " ('SEASON_OPPONENT:mil:2008-09', 0.0),\n",
       " ('SEASON_OPPONENT:mil:2009-10', 0.0),\n",
       " ('SEASON_OPPONENT:mil:2010-11', 0.0),\n",
       " ('SEASON_OPPONENT:mil:2011-12', 0.0),\n",
       " ('SEASON_OPPONENT:mil:2012-13', 0.0),\n",
       " ('SEASON_OPPONENT:mil:2015-16', 0.0),\n",
       " ('SEASON_OPPONENT:min:1996-97', 0.0),\n",
       " ('SEASON_OPPONENT:min:1997-98', 0.0),\n",
       " ('SEASON_OPPONENT:min:1998-99', 0.0),\n",
       " ('SEASON_OPPONENT:min:1999-00', 0.0),\n",
       " ('SEASON_OPPONENT:min:2000-01', 0.0),\n",
       " ('SEASON_OPPONENT:min:2001-02', 0.0),\n",
       " ('SEASON_OPPONENT:min:2002-03', 0.0),\n",
       " ('SEASON_OPPONENT:min:2003-04', 0.0),\n",
       " ('SEASON_OPPONENT:min:2004-05', 0.0),\n",
       " ('SEASON_OPPONENT:min:2005-06', 0.0),\n",
       " ('SEASON_OPPONENT:min:2007-08', 0.0),\n",
       " ('SEASON_OPPONENT:min:2008-09', 0.0),\n",
       " ('SEASON_OPPONENT:min:2009-10', 0.0),\n",
       " ('SEASON_OPPONENT:min:2010-11', 0.0),\n",
       " ('SEASON_OPPONENT:min:2011-12', 0.0),\n",
       " ('SEASON_OPPONENT:min:2012-13', 0.0),\n",
       " ('SEASON_OPPONENT:min:2014-15', 0.0),\n",
       " ('SEASON_OPPONENT:min:2015-16', 0.0),\n",
       " ('SEASON_OPPONENT:njn:1996-97', 0.0),\n",
       " ('SEASON_OPPONENT:njn:1997-98', 0.0),\n",
       " ('SEASON_OPPONENT:njn:1999-00', 0.0),\n",
       " ('SEASON_OPPONENT:njn:2000-01', 0.0),\n",
       " ('SEASON_OPPONENT:njn:2001-02', 0.0),\n",
       " ('SEASON_OPPONENT:njn:2002-03', 0.0),\n",
       " ('SEASON_OPPONENT:njn:2003-04', 0.0),\n",
       " ('SEASON_OPPONENT:njn:2005-06', 0.0),\n",
       " ('SEASON_OPPONENT:njn:2006-07', 0.0),\n",
       " ('SEASON_OPPONENT:njn:2007-08', 0.0),\n",
       " ('SEASON_OPPONENT:njn:2008-09', 0.0),\n",
       " ('SEASON_OPPONENT:njn:2009-10', 0.0),\n",
       " ('SEASON_OPPONENT:njn:2010-11', 0.0),\n",
       " ('SEASON_OPPONENT:noh:2002-03', 0.0),\n",
       " ('SEASON_OPPONENT:noh:2003-04', 0.0),\n",
       " ('SEASON_OPPONENT:noh:2007-08', 0.0),\n",
       " ('SEASON_OPPONENT:noh:2008-09', 0.0),\n",
       " ('SEASON_OPPONENT:noh:2009-10', 0.0),\n",
       " ('SEASON_OPPONENT:noh:2010-11', 0.0),\n",
       " ('SEASON_OPPONENT:noh:2012-13', 0.0),\n",
       " ('SEASON_OPPONENT:nop:2004-05', 0.0),\n",
       " ('SEASON_OPPONENT:nop:2005-06', 0.0),\n",
       " ('SEASON_OPPONENT:nop:2006-07', 0.0),\n",
       " ('SEASON_OPPONENT:nop:2014-15', 0.0),\n",
       " ('SEASON_OPPONENT:nop:2015-16', 0.0),\n",
       " ('SEASON_OPPONENT:nyk:1996-97', 0.0),\n",
       " ('SEASON_OPPONENT:nyk:1997-98', 0.0),\n",
       " ('SEASON_OPPONENT:nyk:1998-99', 0.0),\n",
       " ('SEASON_OPPONENT:nyk:1999-00', 0.0),\n",
       " ('SEASON_OPPONENT:nyk:2000-01', 0.0),\n",
       " ('SEASON_OPPONENT:nyk:2001-02', 0.0),\n",
       " ('SEASON_OPPONENT:nyk:2002-03', 0.0),\n",
       " ('SEASON_OPPONENT:nyk:2003-04', 0.0),\n",
       " ('SEASON_OPPONENT:nyk:2004-05', 0.0),\n",
       " ('SEASON_OPPONENT:nyk:2005-06', 0.0),\n",
       " ('SEASON_OPPONENT:nyk:2006-07', 0.0),\n",
       " ('SEASON_OPPONENT:nyk:2007-08', 0.0),\n",
       " ('SEASON_OPPONENT:nyk:2010-11', 0.0),\n",
       " ('SEASON_OPPONENT:nyk:2011-12', 0.0),\n",
       " ('SEASON_OPPONENT:nyk:2012-13', 0.0),\n",
       " ('SEASON_OPPONENT:nyk:2015-16', 0.0),\n",
       " ('SEASON_OPPONENT:okc:2008-09', 0.0),\n",
       " ('SEASON_OPPONENT:okc:2009-10', 0.0),\n",
       " ('SEASON_OPPONENT:okc:2010-11', 0.0),\n",
       " ('SEASON_OPPONENT:okc:2011-12', 0.0),\n",
       " ('SEASON_OPPONENT:okc:2012-13', 0.0),\n",
       " ('SEASON_OPPONENT:okc:2013-14', 0.0),\n",
       " ('SEASON_OPPONENT:okc:2015-16', 0.0),\n",
       " ('SEASON_OPPONENT:orl:1996-97', 0.0),\n",
       " ('SEASON_OPPONENT:orl:1997-98', 0.0),\n",
       " ('SEASON_OPPONENT:orl:1998-99', 0.0),\n",
       " ('SEASON_OPPONENT:orl:1999-00', 0.0),\n",
       " ('SEASON_OPPONENT:orl:2001-02', 0.0),\n",
       " ('SEASON_OPPONENT:orl:2002-03', 0.0),\n",
       " ('SEASON_OPPONENT:orl:2003-04', 0.0),\n",
       " ('SEASON_OPPONENT:orl:2005-06', 0.0),\n",
       " ('SEASON_OPPONENT:orl:2006-07', 0.0),\n",
       " ('SEASON_OPPONENT:orl:2007-08', 0.0),\n",
       " ('SEASON_OPPONENT:orl:2008-09', 0.0),\n",
       " ('SEASON_OPPONENT:orl:2009-10', 0.0),\n",
       " ('SEASON_OPPONENT:orl:2010-11', 0.0),\n",
       " ('SEASON_OPPONENT:orl:2011-12', 0.0),\n",
       " ('SEASON_OPPONENT:orl:2012-13', 0.0),\n",
       " ('SEASON_OPPONENT:phi:1996-97', 0.0),\n",
       " ('SEASON_OPPONENT:phi:1997-98', 0.0),\n",
       " ('SEASON_OPPONENT:phi:1998-99', 0.0),\n",
       " ('SEASON_OPPONENT:phi:1999-00', 0.0),\n",
       " ('SEASON_OPPONENT:phi:2000-01', 0.0),\n",
       " ('SEASON_OPPONENT:phi:2001-02', 0.0),\n",
       " ('SEASON_OPPONENT:phi:2002-03', 0.0),\n",
       " ('SEASON_OPPONENT:phi:2003-04', 0.0),\n",
       " ('SEASON_OPPONENT:phi:2004-05', 0.0),\n",
       " ('SEASON_OPPONENT:phi:2005-06', 0.0),\n",
       " ('SEASON_OPPONENT:phi:2006-07', 0.0),\n",
       " ('SEASON_OPPONENT:phi:2007-08', 0.0),\n",
       " ('SEASON_OPPONENT:phi:2008-09', 0.0),\n",
       " ('SEASON_OPPONENT:phi:2009-10', 0.0),\n",
       " ('SEASON_OPPONENT:phi:2010-11', 0.0),\n",
       " ('SEASON_OPPONENT:phi:2011-12', 0.0),\n",
       " ('SEASON_OPPONENT:phi:2012-13', 0.0),\n",
       " ('SEASON_OPPONENT:phx:1996-97', 0.0),\n",
       " ('SEASON_OPPONENT:phx:1997-98', 0.0),\n",
       " ('SEASON_OPPONENT:phx:1998-99', 0.0),\n",
       " ('SEASON_OPPONENT:phx:1999-00', 0.0),\n",
       " ('SEASON_OPPONENT:phx:2000-01', 0.0),\n",
       " ('SEASON_OPPONENT:phx:2001-02', 0.0),\n",
       " ('SEASON_OPPONENT:phx:2002-03', 0.0),\n",
       " ('SEASON_OPPONENT:phx:2003-04', 0.0),\n",
       " ('SEASON_OPPONENT:phx:2004-05', 0.0),\n",
       " ('SEASON_OPPONENT:phx:2006-07', 0.0),\n",
       " ('SEASON_OPPONENT:phx:2008-09', 0.0),\n",
       " ('SEASON_OPPONENT:phx:2009-10', 0.0),\n",
       " ('SEASON_OPPONENT:phx:2010-11', 0.0),\n",
       " ('SEASON_OPPONENT:phx:2012-13', 0.0),\n",
       " ('SEASON_OPPONENT:phx:2013-14', 0.0),\n",
       " ('SEASON_OPPONENT:phx:2014-15', 0.0),\n",
       " ('SEASON_OPPONENT:phx:2015-16', 0.0),\n",
       " ('SEASON_OPPONENT:por:1996-97', 0.0),\n",
       " ('SEASON_OPPONENT:por:1997-98', 0.0),\n",
       " ('SEASON_OPPONENT:por:1998-99', 0.0),\n",
       " ('SEASON_OPPONENT:por:1999-00', 0.0),\n",
       " ('SEASON_OPPONENT:por:2000-01', 0.0),\n",
       " ('SEASON_OPPONENT:por:2001-02', 0.0),\n",
       " ('SEASON_OPPONENT:por:2003-04', 0.0),\n",
       " ('SEASON_OPPONENT:por:2004-05', 0.0),\n",
       " ('SEASON_OPPONENT:por:2005-06', 0.0),\n",
       " ('SEASON_OPPONENT:por:2008-09', 0.0),\n",
       " ('SEASON_OPPONENT:por:2009-10', 0.0),\n",
       " ('SEASON_OPPONENT:por:2010-11', 0.0),\n",
       " ('SEASON_OPPONENT:por:2011-12', 0.0),\n",
       " ('SEASON_OPPONENT:por:2012-13', 0.0),\n",
       " ('SEASON_OPPONENT:por:2015-16', 0.0),\n",
       " ('SEASON_OPPONENT:sac:1996-97', 0.0),\n",
       " ('SEASON_OPPONENT:sac:1997-98', 0.0),\n",
       " ('SEASON_OPPONENT:sac:1998-99', 0.0),\n",
       " ('SEASON_OPPONENT:sac:2000-01', 0.0),\n",
       " ('SEASON_OPPONENT:sac:2001-02', 0.0),\n",
       " ('SEASON_OPPONENT:sac:2002-03', 0.0),\n",
       " ('SEASON_OPPONENT:sac:2003-04', 0.0),\n",
       " ('SEASON_OPPONENT:sac:2004-05', 0.0),\n",
       " ('SEASON_OPPONENT:sac:2005-06', 0.0),\n",
       " ('SEASON_OPPONENT:sac:2006-07', 0.0),\n",
       " ('SEASON_OPPONENT:sac:2007-08', 0.0),\n",
       " ('SEASON_OPPONENT:sac:2008-09', 0.0),\n",
       " ('SEASON_OPPONENT:sac:2009-10', 0.0),\n",
       " ('SEASON_OPPONENT:sac:2010-11', 0.0),\n",
       " ('SEASON_OPPONENT:sac:2011-12', 0.0),\n",
       " ('SEASON_OPPONENT:sac:2012-13', 0.0),\n",
       " ('SEASON_OPPONENT:sac:2014-15', 0.0),\n",
       " ('SEASON_OPPONENT:sac:2015-16', 0.0),\n",
       " ('SEASON_OPPONENT:sas:1996-97', 0.0),\n",
       " ('SEASON_OPPONENT:sas:1997-98', 0.0),\n",
       " ('SEASON_OPPONENT:sas:1998-99', 0.0),\n",
       " ('SEASON_OPPONENT:sas:1999-00', 0.0),\n",
       " ('SEASON_OPPONENT:sas:2000-01', 0.0),\n",
       " ('SEASON_OPPONENT:sas:2001-02', 0.0),\n",
       " ('SEASON_OPPONENT:sas:2002-03', 0.0),\n",
       " ('SEASON_OPPONENT:sas:2003-04', 0.0),\n",
       " ('SEASON_OPPONENT:sas:2004-05', 0.0),\n",
       " ('SEASON_OPPONENT:sas:2005-06', 0.0),\n",
       " ('SEASON_OPPONENT:sas:2006-07', 0.0),\n",
       " ('SEASON_OPPONENT:sas:2007-08', 0.0),\n",
       " ('SEASON_OPPONENT:sas:2008-09', 0.0),\n",
       " ('SEASON_OPPONENT:sas:2009-10', 0.0),\n",
       " ('SEASON_OPPONENT:sas:2010-11', 0.0),\n",
       " ('SEASON_OPPONENT:sas:2011-12', 0.0),\n",
       " ('SEASON_OPPONENT:sas:2012-13', 0.0),\n",
       " ('SEASON_OPPONENT:sas:2015-16', 0.0),\n",
       " ('SEASON_OPPONENT:sea:1996-97', 0.0),\n",
       " ('SEASON_OPPONENT:sea:1997-98', 0.0),\n",
       " ('SEASON_OPPONENT:sea:1998-99', 0.0),\n",
       " ('SEASON_OPPONENT:sea:1999-00', 0.0),\n",
       " ('SEASON_OPPONENT:sea:2000-01', 0.0),\n",
       " ('SEASON_OPPONENT:sea:2001-02', 0.0),\n",
       " ('SEASON_OPPONENT:sea:2002-03', 0.0),\n",
       " ('SEASON_OPPONENT:sea:2003-04', 0.0),\n",
       " ('SEASON_OPPONENT:sea:2005-06', 0.0),\n",
       " ('SEASON_OPPONENT:sea:2006-07', 0.0),\n",
       " ('SEASON_OPPONENT:tor:1996-97', 0.0),\n",
       " ('SEASON_OPPONENT:tor:1997-98', 0.0),\n",
       " ('SEASON_OPPONENT:tor:1999-00', 0.0),\n",
       " ('SEASON_OPPONENT:tor:2000-01', 0.0),\n",
       " ('SEASON_OPPONENT:tor:2001-02', 0.0),\n",
       " ('SEASON_OPPONENT:tor:2002-03', 0.0),\n",
       " ('SEASON_OPPONENT:tor:2003-04', 0.0),\n",
       " ('SEASON_OPPONENT:tor:2005-06', 0.0),\n",
       " ('SEASON_OPPONENT:tor:2006-07', 0.0),\n",
       " ('SEASON_OPPONENT:tor:2007-08', 0.0),\n",
       " ('SEASON_OPPONENT:tor:2008-09', 0.0),\n",
       " ('SEASON_OPPONENT:tor:2009-10', 0.0),\n",
       " ('SEASON_OPPONENT:tor:2010-11', 0.0),\n",
       " ('SEASON_OPPONENT:tor:2011-12', 0.0),\n",
       " ('SEASON_OPPONENT:tor:2012-13', 0.0),\n",
       " ('SEASON_OPPONENT:tor:2013-14', 0.0),\n",
       " ('SEASON_OPPONENT:tor:2014-15', 0.0),\n",
       " ('SEASON_OPPONENT:tor:2015-16', 0.0),\n",
       " ('SEASON_OPPONENT:uta:1996-97', 0.0),\n",
       " ('SEASON_OPPONENT:uta:1997-98', 0.0),\n",
       " ('SEASON_OPPONENT:uta:1998-99', 0.0),\n",
       " ('SEASON_OPPONENT:uta:1999-00', 0.0),\n",
       " ('SEASON_OPPONENT:uta:2000-01', 0.0),\n",
       " ('SEASON_OPPONENT:uta:2001-02', 0.0),\n",
       " ('SEASON_OPPONENT:uta:2002-03', 0.0),\n",
       " ('SEASON_OPPONENT:uta:2003-04', 0.0),\n",
       " ('SEASON_OPPONENT:uta:2005-06', 0.0),\n",
       " ('SEASON_OPPONENT:uta:2006-07', 0.0),\n",
       " ('SEASON_OPPONENT:uta:2007-08', 0.0),\n",
       " ('SEASON_OPPONENT:uta:2008-09', 0.0),\n",
       " ('SEASON_OPPONENT:uta:2009-10', 0.0),\n",
       " ('SEASON_OPPONENT:uta:2010-11', 0.0),\n",
       " ('SEASON_OPPONENT:uta:2012-13', 0.0),\n",
       " ('SEASON_OPPONENT:uta:2015-16', 0.0),\n",
       " ('SEASON_OPPONENT:van:1996-97', 0.0),\n",
       " ('SEASON_OPPONENT:van:1997-98', 0.0),\n",
       " ('SEASON_OPPONENT:van:1998-99', 0.0),\n",
       " ('SEASON_OPPONENT:van:1999-00', 0.0),\n",
       " ('SEASON_OPPONENT:van:2000-01', 0.0),\n",
       " ('SEASON_OPPONENT:was:1996-97', 0.0),\n",
       " ('SEASON_OPPONENT:was:1997-98', 0.0),\n",
       " ('SEASON_OPPONENT:was:1999-00', 0.0),\n",
       " ('SEASON_OPPONENT:was:2000-01', 0.0),\n",
       " ('SEASON_OPPONENT:was:2001-02', 0.0),\n",
       " ('SEASON_OPPONENT:was:2002-03', 0.0),\n",
       " ('SEASON_OPPONENT:was:2003-04', 0.0),\n",
       " ('SEASON_OPPONENT:was:2004-05', 0.0),\n",
       " ('SEASON_OPPONENT:was:2005-06', 0.0),\n",
       " ('SEASON_OPPONENT:was:2006-07', 0.0),\n",
       " ('SEASON_OPPONENT:was:2007-08', 0.0),\n",
       " ('SEASON_OPPONENT:was:2008-09', 0.0),\n",
       " ('SEASON_OPPONENT:was:2009-10', 0.0),\n",
       " ('SEASON_OPPONENT:was:2010-11', 0.0),\n",
       " ('SEASON_OPPONENT:was:2011-12', 0.0),\n",
       " ('SEASON_OPPONENT:was:2012-13', 0.0),\n",
       " ('SEASON_OPPONENT:was:2014-15', 0.0),\n",
       " ('SEASON_OPPONENT:was:2015-16', 0.0),\n",
       " ('SEASON:1996-97', 0.0),\n",
       " ('SEASON:1997-98', 0.0),\n",
       " ('SEASON:1998-99', 0.0),\n",
       " ('SEASON:1999-00', 0.0),\n",
       " ('SEASON:2000-01', 0.0),\n",
       " ('SEASON:2001-02', 0.0),\n",
       " ('SEASON:2002-03', 0.0),\n",
       " ('SEASON:2003-04', 0.0),\n",
       " ('SEASON:2004-05', 0.0),\n",
       " ('SEASON:2005-06', 0.0),\n",
       " ('SEASON:2006-07', 0.0),\n",
       " ('SEASON:2008-09', 0.0),\n",
       " ('SEASON:2009-10', 0.0),\n",
       " ('SEASON:2010-11', 0.0),\n",
       " ('SEASON:2011-12', 0.0),\n",
       " ('SEASON:2012-13', 0.0),\n",
       " ('SEASON:2013-14', 0.0),\n",
       " ('MONTH', 0.0),\n",
       " ('PLAYOFFS', 0.0),\n",
       " ('MEAN_X_POSITION', 0.0),\n",
       " ('MEAN_Y_POSITION', 0.0),\n",
       " ('MEAN_SHOT_DISTANCE', 0.0),\n",
       " ('MEAN_SHOT_ANGLE', 0.0),\n",
       " ('SHOT_ZONE_RANGE:24+_ft.', 0.0),\n",
       " ('SHOT_ZONE_RANGE:8-16_ft.', 0.0),\n",
       " ('SHOT_ZONE_RANGE:back_court_shot', 0.0),\n",
       " ('SHOT_ZONE_RANGE:less_than_8_ft.', 0.0),\n",
       " ('SHOT_ZONE_BASIC:above_the_break_3', 0.0),\n",
       " ('SHOT_ZONE_BASIC:backcourt', 0.0),\n",
       " ('SHOT_ZONE_BASIC:in_the_paint_(non-ra)', 0.0),\n",
       " ('SHOT_ZONE_BASIC:left_corner_3', 0.0),\n",
       " ('SHOT_ZONE_BASIC:mid-range', 0.0),\n",
       " ('SHOT_ZONE_BASIC:right_corner_3', 0.0),\n",
       " ('SHOT_ZONE_AREA:back_court(bc)', 0.0),\n",
       " ('SHOT_ZONE_AREA:left_side_center(lc)', 0.0),\n",
       " ('SHOT_ZONE_AREA:left_side(l)', 0.0),\n",
       " ('SHOT_ZONE_AREA:right_side(r)', 0.0),\n",
       " ('SHOT_TYPE:3pt_field_goal', 0.0),\n",
       " ('COMBINED_SHOT_TYPE:bank_shot', 0.0),\n",
       " ('COMBINED_SHOT_TYPE:hook_shot', 0.0),\n",
       " ('COMBINED_SHOT_TYPE:layup', 0.0),\n",
       " ('COMBINED_SHOT_TYPE:tip_shot', 0.0),\n",
       " ('MINUTES_REMAINING', 0.0),\n",
       " ('PERIOD', 0.0),\n",
       " ('ACTION_TYPE:alley_oop_dunk_shot', 0.0),\n",
       " ('ACTION_TYPE:alley_oop_layup_shot', 0.0),\n",
       " ('ACTION_TYPE:cutting_finger_roll_layup_shot', 0.0),\n",
       " ('ACTION_TYPE:cutting_layup_shot', 0.0),\n",
       " ('ACTION_TYPE:driving_bank_shot', 0.0),\n",
       " ('ACTION_TYPE:driving_dunk_shot', 0.0),\n",
       " ('ACTION_TYPE:driving_finger_roll_layup_shot', 0.0),\n",
       " ('ACTION_TYPE:driving_finger_roll_shot', 0.0),\n",
       " ('ACTION_TYPE:driving_floating_bank_jump_shot', 0.0),\n",
       " ('ACTION_TYPE:driving_floating_jump_shot', 0.0),\n",
       " ('ACTION_TYPE:driving_hook_shot', 0.0),\n",
       " ('ACTION_TYPE:driving_jump_shot', 0.0),\n",
       " ('ACTION_TYPE:driving_layup_shot', 0.0),\n",
       " ('ACTION_TYPE:driving_reverse_layup_shot', 0.0),\n",
       " ('ACTION_TYPE:driving_slam_dunk_shot', 0.0),\n",
       " ('ACTION_TYPE:dunk_shot', 0.0),\n",
       " ('ACTION_TYPE:fadeaway_bank_shot', 0.0),\n",
       " ('ACTION_TYPE:finger_roll_layup_shot', 0.0),\n",
       " ('ACTION_TYPE:finger_roll_shot', 0.0),\n",
       " ('ACTION_TYPE:floating_jump_shot', 0.0),\n",
       " ('ACTION_TYPE:follow_up_dunk_shot', 0.0),\n",
       " ('ACTION_TYPE:hook_bank_shot', 0.0),\n",
       " ('ACTION_TYPE:hook_shot', 0.0),\n",
       " ('ACTION_TYPE:jump_hook_shot', 0.0),\n",
       " ('ACTION_TYPE:pullup_bank_shot', 0.0),\n",
       " ('ACTION_TYPE:pullup_jump_shot', 0.0),\n",
       " ('ACTION_TYPE:putback_dunk_shot', 0.0),\n",
       " ('ACTION_TYPE:putback_layup_shot', 0.0),\n",
       " ('ACTION_TYPE:putback_slam_dunk_shot', 0.0),\n",
       " ('ACTION_TYPE:reverse_layup_shot', 0.0),\n",
       " ('ACTION_TYPE:reverse_slam_dunk_shot', 0.0),\n",
       " ('ACTION_TYPE:running_dunk_shot', 0.0),\n",
       " ('ACTION_TYPE:running_finger_roll_layup_shot', 0.0),\n",
       " ('ACTION_TYPE:running_finger_roll_shot', 0.0),\n",
       " ('ACTION_TYPE:running_jump_shot', 0.0),\n",
       " ('ACTION_TYPE:running_layup_shot', 0.0),\n",
       " ('ACTION_TYPE:running_pull-up_jump_shot', 0.0),\n",
       " ('ACTION_TYPE:running_reverse_layup_shot', 0.0),\n",
       " ('ACTION_TYPE:running_slam_dunk_shot', 0.0),\n",
       " ('ACTION_TYPE:running_tip_shot', 0.0),\n",
       " ('ACTION_TYPE:slam_dunk_shot', 0.0),\n",
       " ('ACTION_TYPE:step_back_jump_shot', 0.0),\n",
       " ('ACTION_TYPE:tip_layup_shot', 0.0),\n",
       " ('ACTION_TYPE:turnaround_bank_shot', 0.0),\n",
       " ('ACTION_TYPE:turnaround_fadeaway_bank_jump_shot', 0.0),\n",
       " ('ACTION_TYPE:turnaround_fadeaway_shot', 0.0),\n",
       " ('ACTION_TYPE:turnaround_finger_roll_shot', 0.0),\n",
       " ('ACTION_TYPE:turnaround_hook_shot', 0.0),\n",
       " ('ACTION_TYPE:turnaround_jump_shot', 0.0),\n",
       " ('SEASON_GAME_NUMBER', 0.0),\n",
       " ('CAREER_GAME_NUMBER', 0.0)]"
      ]
     },
     "execution_count": 137,
     "metadata": {},
     "output_type": "execute_result"
    }
   ],
   "source": [
    "import operator\n",
    "\n",
    "sorted(absolute_lasso_dict.items(), key=operator.itemgetter(1), reverse=True)"
   ]
  },
  {
   "cell_type": "markdown",
   "metadata": {},
   "source": [
    "### 2. What percent of the variables in the original data set are \"zeroed-out\" by the lasso?\n",
    "#### About 90% of the variables in the original data set were zeroed-out by the lasso."
   ]
  },
  {
   "cell_type": "code",
   "execution_count": 148,
   "metadata": {},
   "outputs": [
    {
     "data": {
      "text/plain": [
       "90.21739130434783"
      ]
     },
     "execution_count": 148,
     "metadata": {},
     "output_type": "execute_result"
    }
   ],
   "source": [
    "percent_zero = 100 * (coef_list.count(0)/len(col_list))\n",
    "percent_zero"
   ]
  },
  {
   "cell_type": "markdown",
   "metadata": {},
   "source": [
    "### 3. What are the most important predictors for how many shots Kobe made in a game?\n",
    "\n",
    "#### Please find below the top 10 most important predictors for how many shots Kobe made in a game:"
   ]
  },
  {
   "cell_type": "code",
   "execution_count": 154,
   "metadata": {},
   "outputs": [
    {
     "data": {
      "text/plain": [
       "[('COMBINED_SHOT_TYPE:jump_shot', 1.45701649195532),\n",
       " ('SHOT_TYPE:2pt_field_goal', 0.6179224411893001),\n",
       " ('SHOT_ZONE_BASIC:restricted_area', 0.4825784448251801),\n",
       " ('COMBINED_SHOT_TYPE:dunk', 0.3636053042436625),\n",
       " ('ACTION_TYPE:jump_shot', 0.2616596028383961),\n",
       " ('SECONDS_REMAINING', 0.17853307265205004),\n",
       " ('SHOT_ZONE_AREA:right_side_center(rc)', 0.16367594877379987),\n",
       " ('SHOT_ZONE_AREA:center(c)', 0.10401419760737111),\n",
       " ('SEASON_OPPONENT:nyk:2008-09', 0.10221714891416465),\n",
       " ('SEASON_OPPONENT:mem:2009-10', 0.10172125157749642)]"
      ]
     },
     "execution_count": 154,
     "metadata": {},
     "output_type": "execute_result"
    }
   ],
   "source": [
    "non_zero_lasso_dict = {}\n",
    "\n",
    "for k, v in absolute_lasso_dict.items():\n",
    "    if v != 0:\n",
    "        non_zero_lasso_dict[k] = v\n",
    "    else:\n",
    "        pass\n",
    "    \n",
    "sorted(non_zero_lasso_dict.items(), key=operator.itemgetter(1), reverse=True)[0:10]"
   ]
  },
  {
   "cell_type": "markdown",
   "metadata": {},
   "source": [
    "---\n",
    "\n",
    "### 10) Find an optimal value for elastic net regression alpha using `ElasticNetCV`.\n",
    "\n",
    "Go to the documentation and [read how ElasticNetCV works](http://scikit-learn.org/stable/modules/generated/sklearn.linear_model.ElasticNetCV.html).\n",
    "\n",
    "Note that here you'll be optimizing both the alpha parameter and the l1_ratio:\n",
    "- `alpha`: Strength of regularization.\n",
    "- `l1_ratio`: Amount of ridge vs. lasso (0 = all ridge, 1 = all lasso).\n",
    "    \n",
    "Do not include 0 in the search for `l1_ratio` — it won't allow it and will break.\n",
    "\n",
    "You can use `n_alphas` for the alpha parameters instead of setting your own values, which we highly recommend.\n",
    "\n",
    "Also, be careful setting too many l1_ratios over cross-validation folds in your search. It can take a long time if you choose too many combinations and, for the most part, there are diminishing returns in this data."
   ]
  },
  {
   "cell_type": "code",
   "execution_count": null,
   "metadata": {
    "collapsed": true
   },
   "outputs": [],
   "source": [
    "# A:"
   ]
  },
  {
   "cell_type": "code",
   "execution_count": 156,
   "metadata": {},
   "outputs": [],
   "source": [
    "enet_alphas = np.arange(0.5, 1.0, 0.005)"
   ]
  },
  {
   "cell_type": "code",
   "execution_count": 157,
   "metadata": {},
   "outputs": [],
   "source": [
    "enet_ratio = 0.5"
   ]
  },
  {
   "cell_type": "code",
   "execution_count": 168,
   "metadata": {},
   "outputs": [],
   "source": [
    "enet_model = ElasticNetCV(alphas=enet_alphas, l1_ratio=enet_ratio, cv=5)"
   ]
  },
  {
   "cell_type": "code",
   "execution_count": 169,
   "metadata": {},
   "outputs": [],
   "source": [
    "enet_model = enet_model.fit(X_train_sc, y_train)"
   ]
  },
  {
   "cell_type": "code",
   "execution_count": 170,
   "metadata": {},
   "outputs": [
    {
     "data": {
      "text/plain": [
       "0.5"
      ]
     },
     "execution_count": 170,
     "metadata": {},
     "output_type": "execute_result"
    }
   ],
   "source": [
    "enet_model.alpha_"
   ]
  },
  {
   "cell_type": "markdown",
   "metadata": {},
   "source": [
    "---\n",
    "\n",
    "### 11) Cross-validate the elastic net $R^2$ with the optimal alpha and l1_ratio.\n",
    "\n",
    "How does it compare to the ridge and lasso regularized regressions?"
   ]
  },
  {
   "cell_type": "markdown",
   "metadata": {
    "collapsed": true
   },
   "source": [
    "# A:\n",
    "\n",
    "#### It seems to work better than Ridge but worse than Lasso."
   ]
  },
  {
   "cell_type": "code",
   "execution_count": 171,
   "metadata": {},
   "outputs": [
    {
     "data": {
      "text/plain": [
       "0.6034197199108567"
      ]
     },
     "execution_count": 171,
     "metadata": {},
     "output_type": "execute_result"
    }
   ],
   "source": [
    "cross_val_score(enet_model, X_train_sc, y_train, cv=10).mean()"
   ]
  },
  {
   "cell_type": "markdown",
   "metadata": {},
   "source": [
    "---\n",
    "\n",
    "### 12. [Bonus] Compare the residuals for ridge and lasso visually.\n"
   ]
  },
  {
   "cell_type": "code",
   "execution_count": null,
   "metadata": {
    "collapsed": true
   },
   "outputs": [],
   "source": [
    "# A: Maybe a jointplot?"
   ]
  }
 ],
 "metadata": {
  "kernelspec": {
   "display_name": "Python 3",
   "language": "python",
   "name": "python3"
  },
  "language_info": {
   "codemirror_mode": {
    "name": "ipython",
    "version": 3
   },
   "file_extension": ".py",
   "mimetype": "text/x-python",
   "name": "python",
   "nbconvert_exporter": "python",
   "pygments_lexer": "ipython3",
   "version": "3.6.5"
  }
 },
 "nbformat": 4,
 "nbformat_minor": 1
}
